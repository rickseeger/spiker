{
 "metadata": {
  "name": "",
  "signature": "sha256:ee94aefa221dbb31e7c0329e52f02cdc281331ba1d824f7b16f14648289da8b4"
 },
 "nbformat": 3,
 "nbformat_minor": 0,
 "worksheets": [
  {
   "cells": [
    {
     "cell_type": "code",
     "collapsed": false,
     "input": [
      "%matplotlib inline"
     ],
     "language": "python",
     "metadata": {},
     "outputs": [],
     "prompt_number": 1
    },
    {
     "cell_type": "code",
     "collapsed": false,
     "input": [
      "import pandas as pd\n",
      "import matplotlib.pyplot as plt\n",
      "import numpy"
     ],
     "language": "python",
     "metadata": {},
     "outputs": [],
     "prompt_number": 2
    },
    {
     "cell_type": "code",
     "collapsed": false,
     "input": [
      "v = pd.read_csv(\"http://ichart.yahoo.com/table.csv?s=%5EVIX&a=0&b=1&c=2011&f=2012\", parse_dates=['Date'])\n",
      "#v = pd.read_csv(\"http://real-chart.finance.yahoo.com/table.csv?s=%5EVIX&a=00&b=1&c=2010&d=00&e=1&f=2011&g=d&ignore=.csv\", parse_dates=['Date'])\n",
      "\n",
      "    \n",
      "x = v['Date']\n",
      "y = v['Close']"
     ],
     "language": "python",
     "metadata": {},
     "outputs": [],
     "prompt_number": 3
    },
    {
     "cell_type": "code",
     "collapsed": false,
     "input": [
      "x = x[0:100]\n",
      "y = y[0:100]"
     ],
     "language": "python",
     "metadata": {},
     "outputs": [],
     "prompt_number": 18
    },
    {
     "cell_type": "code",
     "collapsed": false,
     "input": [
      "# convert date to unix time\n",
      "import datetime\n",
      "xu = [d.strftime('%s') for d in x] "
     ],
     "language": "python",
     "metadata": {},
     "outputs": [],
     "prompt_number": 19
    },
    {
     "cell_type": "code",
     "collapsed": false,
     "input": [
      "def derive(f):\n",
      "    f1 = []\n",
      "    for i in range(len(f)):\n",
      "        if (i==0):\n",
      "            f1.append(0)\n",
      "        else:\n",
      "            f1.append(f[i]-f[i-1])\n",
      "    return f1"
     ],
     "language": "python",
     "metadata": {},
     "outputs": [],
     "prompt_number": 20
    },
    {
     "cell_type": "code",
     "collapsed": false,
     "input": [
      "def smooth(x, w):\n",
      "    s = []\n",
      "    for i in range(len(x) - w + 1):\n",
      "        s.append(numpy.mean(x[i:i+w]))\n",
      "    return s\n",
      "    \n",
      "    "
     ],
     "language": "python",
     "metadata": {},
     "outputs": [],
     "prompt_number": 21
    },
    {
     "cell_type": "code",
     "collapsed": false,
     "input": [
      "ys = smooth(y,3)"
     ],
     "language": "python",
     "metadata": {},
     "outputs": [],
     "prompt_number": 22
    },
    {
     "cell_type": "code",
     "collapsed": false,
     "input": [
      "# crop x range to match y\n",
      "pad = (len(xu)- len(ys))/2\n",
      "extra = (len(xu) - len(ys))%2\n",
      "xcrop = xu[pad:(len(xu)-pad-extra)]\n",
      "yorig = y[pad:(len(xu)-pad-extra)]\n",
      "print 'range [{},{}] => [{},{}]'.format(0,len(xu),pad,len(xu)-pad-extra)\n",
      "print 'len(ys) = {}, len(xcrop) = {}'.format(len(ys), len(xcrop))"
     ],
     "language": "python",
     "metadata": {},
     "outputs": [
      {
       "output_type": "stream",
       "stream": "stdout",
       "text": [
        "range [0,100] => [1,99]\n",
        "len(ys) = 98, len(xcrop) = 98\n"
       ]
      }
     ],
     "prompt_number": 23
    },
    {
     "cell_type": "code",
     "collapsed": false,
     "input": [
      "y1 = derive(ys)\n",
      "y2 = derive(y1)\n",
      "y3 = derive(y2)"
     ],
     "language": "python",
     "metadata": {},
     "outputs": [],
     "prompt_number": 24
    },
    {
     "cell_type": "code",
     "collapsed": false,
     "input": [
      "from operator import add, mul\n",
      "y1t = map(add, y1, ys)\n",
      "y2t = map(add, y2, ys)\n",
      "y3t = map(add, y3, ys)\n",
      "\n",
      "scale = [5] * len(y1)\n",
      "y1s = map(mul, y1, scale)\n",
      "y2s = map(mul, y2, scale)\n",
      "y3s = map(mul, y3, scale)\n"
     ],
     "language": "python",
     "metadata": {},
     "outputs": [],
     "prompt_number": 25
    },
    {
     "cell_type": "code",
     "collapsed": false,
     "input": [
      "# flag points with a specific derivative cutoff\n",
      "inc = [0]\n",
      "for i in range(len(ys)-1):\n",
      "    if (y1[i+1] > -0.3):\n",
      "#    if (y2[i+1] > -1.6):\n",
      "        inc.append(20)\n",
      "    else:\n",
      "        inc.append(yorig[i+pad])"
     ],
     "language": "python",
     "metadata": {},
     "outputs": [],
     "prompt_number": 26
    },
    {
     "cell_type": "code",
     "collapsed": false,
     "input": [
      "# flag points where the slope is negative several times in a row\n",
      "times = 3\n",
      "turn = [0] * times\n",
      "for i in range(times,len(y1)):\n",
      "    down = False\n",
      "    for j in range(i-times,i):\n",
      "        if (y1[j] < 0):\n",
      "            down = True\n",
      "            break\n",
      "    if down:\n",
      "        turn.append(20)\n",
      "    else:\n",
      "        turn.append(yorig[i])\n",
      "        "
     ],
     "language": "python",
     "metadata": {},
     "outputs": [],
     "prompt_number": 30
    },
    {
     "cell_type": "code",
     "collapsed": false,
     "input": [
      "plt.figure(figsize=(18,8))\n",
      "plt.plot(xcrop, yorig, '-',xcrop,inc,'*')"
     ],
     "language": "python",
     "metadata": {},
     "outputs": [
      {
       "metadata": {},
       "output_type": "pyout",
       "prompt_number": 31,
       "text": [
        "[<matplotlib.lines.Line2D at 0x7f553507f850>,\n",
        " <matplotlib.lines.Line2D at 0x7f553507fad0>]"
       ]
      },
      {
       "metadata": {},
       "output_type": "display_data",
       "png": "[encoded data removed]",
       "text": [
        "<matplotlib.figure.Figure at 0x7f5536cc47d0>"
       ]
      }
     ],
     "prompt_number": 31
    },
    {
     "cell_type": "code",
     "collapsed": false,
     "input": [],
     "language": "python",
     "metadata": {},
     "outputs": [],
     "prompt_number": 422
    },
    {
     "cell_type": "code",
     "collapsed": false,
     "input": [],
     "language": "python",
     "metadata": {},
     "outputs": []
    }
   ],
   "metadata": {}
  }
 ]
}